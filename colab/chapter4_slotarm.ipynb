{
  "nbformat": 4,
  "nbformat_minor": 0,
  "metadata": {
    "colab": {
      "name": "chapter4_slotarm.ipynb",
      "provenance": [],
      "collapsed_sections": [],
      "authorship_tag": "ABX9TyPl46q7FWWwCZn969URt9hL",
      "include_colab_link": true
    },
    "kernelspec": {
      "name": "python3",
      "display_name": "Python 3"
    },
    "language_info": {
      "name": "python"
    }
  },
  "cells": [
    {
      "cell_type": "markdown",
      "metadata": {
        "id": "view-in-github",
        "colab_type": "text"
      },
      "source": [
        "<a href=\"https://colab.research.google.com/github/tzuyichao/python-basic/blob/master/colab/chapter4_slotarm.ipynb\" target=\"_parent\"><img src=\"https://colab.research.google.com/assets/colab-badge.svg\" alt=\"Open In Colab\"/></a>"
      ]
    },
    {
      "cell_type": "code",
      "metadata": {
        "id": "0Cr6sAfFKOv0"
      },
      "source": [
        "import numpy as np\n",
        "import random\n",
        "import math\n",
        "import pandas as pd\n",
        "import matplotlib.pyplot as plt\n",
        "%matplotlib inline"
      ],
      "execution_count": 1,
      "outputs": []
    },
    {
      "cell_type": "code",
      "metadata": {
        "id": "c4IurwH2Ncw0"
      },
      "source": [
        "class SlotArm():\n",
        "  def __init__(self, p):\n",
        "    self.p = p\n",
        "  \n",
        "  def draw(self):\n",
        "    if self.p > random.random():\n",
        "      return 1.0\n",
        "    else:\n",
        "      return 0.0"
      ],
      "execution_count": 2,
      "outputs": []
    },
    {
      "cell_type": "code",
      "metadata": {
        "id": "Sd3v-uC7Nz0Q"
      },
      "source": [
        "class EpsilonGreedy():\n",
        "  def __init__(self, epsilon):\n",
        "    self.epsilon = epsilon\n",
        "  \n",
        "  def initialize(self, n_arms):\n",
        "    self.n = np.zeros(n_arms)\n",
        "    self.v = np.zeros(n_arms)\n",
        "  \n",
        "  def select_arm(self):\n",
        "    if self.epsilon > random.random():\n",
        "      return np.random.randint(0, len(self.v))\n",
        "    else:\n",
        "      return np.argmax(self.v)\n",
        "  \n",
        "  def update(self, chosen_arm, reward, t):\n",
        "    self.n[chosen_arm] += 1\n",
        "    n = self.n[chosen_arm]\n",
        "    v = self.v[chosen_arm]\n",
        "    self.v[chosen_arm] = ((n-1)/float(n)) * v + (1/float(n)) * reward\n",
        "  \n",
        "  def label(self):\n",
        "    return 'ε-greedy(' + str(self.epsilon) + ')'\n"
      ],
      "execution_count": 3,
      "outputs": []
    },
    {
      "cell_type": "code",
      "metadata": {
        "id": "W21y6Fp5QZcD"
      },
      "source": [
        "class UCB1():\n",
        "  def initialize(self, n_arms):\n",
        "    self.n = np.zeros(n_arms)\n",
        "    self.w = np.zeros(n_arms)\n",
        "    self.v = np.zeros(n_arms)\n",
        "  \n",
        "  def select_arm(self):\n",
        "    for i in range(len(self.n)):\n",
        "      if self.n[i] == 0:\n",
        "        return i\n",
        "    return np.argmax(self.v)\n",
        "  \n",
        "  def update(self, chosen_arm, reward, t):\n",
        "    self.n[chosen_arm] += 1\n",
        "    if reward == 1.0:\n",
        "      self.w[chosen_arm] += 1\n",
        "    for i in range(len(self.n)):\n",
        "      if self.n[i] == 0:\n",
        "        return\n",
        "    for i in range(len(self.v)):\n",
        "      self.v[i] = self.w[i]/self.n[i] + (2 * math.log(t)/math.log(t)/self.n[i]) ** 0.5\n",
        "    \n",
        "  def label(self):\n",
        "    return 'ucb1'"
      ],
      "execution_count": 4,
      "outputs": []
    },
    {
      "cell_type": "code",
      "metadata": {
        "id": "hXT7PrcARzaa"
      },
      "source": [
        "def play(algo, arms, num_sims, num_time):\n",
        "  times = np.zeros(num_sims*num_time)\n",
        "  rewards = np.zeros(num_sims*num_time)\n",
        "  for sim in range(num_sims):\n",
        "    algo.initialize(len(arms))\n",
        "    for time in range(num_time):\n",
        "      index = sim * num_time + time\n",
        "      times[index] = time+1\n",
        "      chosen_arm = algo.select_arm()\n",
        "      reward = arms[chosen_arm].draw()\n",
        "      rewards[index] = reward\n",
        "      algo.update(chosen_arm, reward, time+1)\n",
        "  return [times, rewards]\n"
      ],
      "execution_count": 5,
      "outputs": []
    },
    {
      "cell_type": "code",
      "metadata": {
        "colab": {
          "base_uri": "https://localhost:8080/",
          "height": 279
        },
        "id": "n0CGE__JS0Oy",
        "outputId": "25f97584-5ddc-47ea-99be-17e7a0dc860a"
      },
      "source": [
        "arms = (SlotArm(0.3), SlotArm(0.5), SlotArm(0.9))\n",
        "\n",
        "algos = (EpsilonGreedy(0.1), UCB1())\n",
        "\n",
        "for algo in algos:\n",
        "  results = play(algo, arms, 1000, 250)\n",
        "\n",
        "  df = pd.DataFrame({'times': results[0], 'rewards': results[1]})\n",
        "  mean = df['rewards'].groupby(df['times']).mean()\n",
        "  plt.plot(mean, label=algo.label())\n",
        "\n",
        "plt.xlabel('Step')\n",
        "plt.ylabel('Average Reward')\n",
        "plt.legend(loc='best')\n",
        "plt.show()"
      ],
      "execution_count": 9,
      "outputs": [
        {
          "output_type": "display_data",
          "data": {
            "image/png": "[encoded data removed]",
            "text/plain": [
              "<Figure size 432x288 with 1 Axes>"
            ]
          },
          "metadata": {
            "tags": [],
            "needs_background": "light"
          }
        }
      ]
    }
  ]
}