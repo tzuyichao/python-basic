{
  "nbformat": 4,
  "nbformat_minor": 0,
  "metadata": {
    "colab": {
      "name": "book_nlppython_intent_recognition.ipynb",
      "provenance": [],
      "collapsed_sections": [],
      "authorship_tag": "ABX9TyOd6A+HVnrco/R8rGG4Z/bW",
      "include_colab_link": true
    },
    "kernelspec": {
      "name": "python3",
      "display_name": "Python 3"
    }
  },
  "cells": [
    {
      "cell_type": "markdown",
      "metadata": {
        "id": "view-in-github",
        "colab_type": "text"
      },
      "source": [
        "<a href=\"https://colab.research.google.com/github/tzuyichao/python-basic/blob/master/colab/book_nlppython_intent_recognition.ipynb\" target=\"_parent\"><img src=\"https://colab.research.google.com/assets/colab-badge.svg\" alt=\"Open In Colab\"/></a>"
      ]
    },
    {
      "cell_type": "markdown",
      "metadata": {
        "id": "AqzHY44wuW6m"
      },
      "source": [
        "### Natual Language Processing with Python and spaCy\r\n",
        "\r\n",
        "book link: https://nostarch.com/NLPPython\r\n",
        "\r\n",
        "#### Chapter 8 Intent Recognition\r\n"
      ]
    },
    {
      "cell_type": "code",
      "metadata": {
        "colab": {
          "base_uri": "https://localhost:8080/"
        },
        "id": "7WlkWp9DqwXN",
        "outputId": "9540d119-8e39-4b72-c8ad-3e02d7df14bc"
      },
      "source": [
        "import spacy\r\n",
        "nlp = spacy.load('en')\r\n",
        "doc = nlp(u'I have finished my pizza. I want another one.')\r\n",
        "verbList = [('order','want','give','make'),('show','find')]\r\n",
        "dobjList = [('pizza','pie','pizzaz'),('cola','soda')]\r\n",
        "substitutes = ('one','it','same','more')\r\n",
        "intent = {'verb': '', 'dobj': ''}\r\n",
        "for sent in doc.sents:\r\n",
        "  for token in sent:\r\n",
        "    if token.dep_ == 'dobj':\r\n",
        "      verbSyns = [item for item in verbList if token.head.text in item]\r\n",
        "      dobjSyns = [item for item in dobjList if token.text in item]\r\n",
        "      substitute = [item for item in substitutes if token.text in item]\r\n",
        "      if (dobjSyns != [] or substitute != []) and verbSyns != []:\r\n",
        "        intent['verb'] = verbSyns[0][0]\r\n",
        "      if dobjSyns != []:\r\n",
        "        intent['dobj'] = dobjSyns[0][0]\r\n",
        "intentStr = intent['verb'] + intent['dobj'].capitalize()\r\n",
        "print(intentStr)"
      ],
      "execution_count": 3,
      "outputs": [
        {
          "output_type": "stream",
          "text": [
            "orderPizza\n"
          ],
          "name": "stdout"
        }
      ]
    },
    {
      "cell_type": "code",
      "metadata": {
        "id": "05WYMyc6uMRF"
      },
      "source": [
        ""
      ],
      "execution_count": null,
      "outputs": []
    }
  ]
}