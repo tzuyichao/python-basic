{
  "nbformat": 4,
  "nbformat_minor": 0,
  "metadata": {
    "colab": {
      "name": "probability.ipynb",
      "provenance": [],
      "collapsed_sections": [],
      "authorship_tag": "ABX9TyN0bopzwS1TA9oR7LrEZ82/",
      "include_colab_link": true
    },
    "kernelspec": {
      "name": "python3",
      "display_name": "Python 3"
    }
  },
  "cells": [
    {
      "cell_type": "markdown",
      "metadata": {
        "id": "view-in-github",
        "colab_type": "text"
      },
      "source": [
        "<a href=\"https://colab.research.google.com/github/tzuyichao/python-basic/blob/master/colab/probability.ipynb\" target=\"_parent\"><img src=\"https://colab.research.google.com/assets/colab-badge.svg\" alt=\"Open In Colab\"/></a>"
      ]
    },
    {
      "cell_type": "code",
      "metadata": {
        "id": "wWhpk0DZn9c3"
      },
      "source": [
        "sample_space = {'Heads', 'Tails'}"
      ],
      "execution_count": null,
      "outputs": []
    },
    {
      "cell_type": "code",
      "metadata": {
        "colab": {
          "base_uri": "https://localhost:8080/"
        },
        "id": "DOoKtXpRoWtt",
        "outputId": "4b524bac-46d9-4284-def6-5b04cb542641"
      },
      "source": [
        "probability_heads = 1/len(sample_space)\r\n",
        "print(f'Probability of choosing head is {probability_heads}')"
      ],
      "execution_count": null,
      "outputs": [
        {
          "output_type": "stream",
          "text": [
            "Probability of choosing head is 0.5\n"
          ],
          "name": "stdout"
        }
      ]
    },
    {
      "cell_type": "code",
      "metadata": {
        "id": "gGnXwBkvplRp"
      },
      "source": [
        "def is_heads_or_tails(outcome):\r\n",
        "  return outcome in {'Heads', 'Tails'}\r\n",
        "\r\n",
        "def is_neither(outcome):\r\n",
        "  return not is_heads_or_tails(outcome)\r\n",
        "\r\n",
        "def is_heads(outcome):\r\n",
        "  return outcome == 'Heads'\r\n",
        "\r\n",
        "def is_tails(outcome):\r\n",
        "  return outcome == 'Tails'\r\n"
      ],
      "execution_count": null,
      "outputs": []
    },
    {
      "cell_type": "code",
      "metadata": {
        "id": "QNDNUismqNEE"
      },
      "source": [
        "def get_event(event_condition, sample_space):\r\n",
        "  return set([outcome for outcome in sample_space if event_condition(outcome)])"
      ],
      "execution_count": null,
      "outputs": []
    },
    {
      "cell_type": "code",
      "metadata": {
        "colab": {
          "base_uri": "https://localhost:8080/"
        },
        "id": "sG8TeAX6qnbm",
        "outputId": "4dd93bf8-b385-4a8d-cbfd-eec7bfc8b8d5"
      },
      "source": [
        "event_conditions = [is_heads_or_tails, is_heads, is_tails, is_neither]\r\n",
        "\r\n",
        "for event_condition in event_conditions:\r\n",
        "  print(f\"Event Condition: {event_condition.__name__}\")\r\n",
        "  event = get_event(event_condition, sample_space)\r\n",
        "  print(f'Event: {event}\\n')"
      ],
      "execution_count": null,
      "outputs": [
        {
          "output_type": "stream",
          "text": [
            "Event Condition: is_heads_or_tails\n",
            "Event: {'Tails', 'Heads'}\n",
            "\n",
            "Event Condition: is_heads\n",
            "Event: {'Heads'}\n",
            "\n",
            "Event Condition: is_tails\n",
            "Event: {'Tails'}\n",
            "\n",
            "Event Condition: is_neither\n",
            "Event: set()\n",
            "\n"
          ],
          "name": "stdout"
        }
      ]
    },
    {
      "cell_type": "code",
      "metadata": {
        "colab": {
          "base_uri": "https://localhost:8080/"
        },
        "id": "X-OJO_nkybO1",
        "outputId": "32dedb10-82f2-412e-8073-82cb09e4375f"
      },
      "source": [
        "def compute_prpbablility(event_condition, generic_sample_space):\r\n",
        "  event = get_event(event_conition, generic_sample_space)\r\n",
        "  return len(event)/len(generic_sample_space)\r\n",
        "\r\n",
        "for event_condition in event_conditions:\r\n",
        "  prob = compute_prpbablility(event_condition, sample_space)\r\n",
        "  name = event_condition.__name__\r\n",
        "  print(f\"Probability of event arising from '{name}' is {prob}\")"
      ],
      "execution_count": null,
      "outputs": [
        {
          "output_type": "stream",
          "text": [
            "Probability of event arising from 'is_heads_or_tails' is 1.0\n",
            "Probability of event arising from 'is_heads' is 0.5\n",
            "Probability of event arising from 'is_tails' is 0.5\n",
            "Probability of event arising from 'is_neither' is 0.0\n"
          ],
          "name": "stdout"
        }
      ]
    },
    {
      "cell_type": "markdown",
      "metadata": {
        "id": "vXxeZGxr29yT"
      },
      "source": [
        "# Analyzing a Biased Coin"
      ]
    },
    {
      "cell_type": "code",
      "metadata": {
        "id": "YIgelJKv3HrR"
      },
      "source": [
        ""
      ],
      "execution_count": null,
      "outputs": []
    }
  ]
}