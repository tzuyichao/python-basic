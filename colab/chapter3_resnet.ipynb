{
  "nbformat": 4,
  "nbformat_minor": 0,
  "metadata": {
    "colab": {
      "name": "chapter3_resnet.ipynb",
      "provenance": [],
      "collapsed_sections": [],
      "authorship_tag": "ABX9TyMT2mqmqBZMoKLz9Dh6nnUn",
      "include_colab_link": true
    },
    "kernelspec": {
      "name": "python3",
      "display_name": "Python 3"
    },
    "language_info": {
      "name": "python"
    },
    "accelerator": "GPU"
  },
  "cells": [
    {
      "cell_type": "markdown",
      "metadata": {
        "id": "view-in-github",
        "colab_type": "text"
      },
      "source": [
        "<a href=\"https://colab.research.google.com/github/tzuyichao/python-basic/blob/master/colab/chapter3_resnet.ipynb\" target=\"_parent\"><img src=\"https://colab.research.google.com/assets/colab-badge.svg\" alt=\"Open In Colab\"/></a>"
      ]
    },
    {
      "cell_type": "code",
      "metadata": {
        "id": "XqqR7lycfy8C"
      },
      "source": [
        "from tensorflow.keras.datasets import cifar10\n",
        "from tensorflow.keras.callbacks import LearningRateScheduler\n",
        "from tensorflow.keras.layers import Activation, Add, BatchNormalization, Conv2D, Dense, GlobalAveragePooling2D, Input\n",
        "from tensorflow.keras.models import Model\n",
        "from tensorflow.keras.optimizers import SGD\n",
        "from tensorflow.keras.preprocessing.image import ImageDataGenerator\n",
        "from tensorflow.keras.regularizers import l2\n",
        "from tensorflow.keras.utils import to_categorical\n",
        "import numpy as np\n",
        "import matplotlib.pyplot as plt\n",
        "%matplotlib inline"
      ],
      "execution_count": 1,
      "outputs": []
    },
    {
      "cell_type": "code",
      "metadata": {
        "id": "KYDdBuZuj3Pt"
      },
      "source": [
        "(train_images, train_labels), (test_images, test_labels) = cifar10.load_data()"
      ],
      "execution_count": 2,
      "outputs": []
    },
    {
      "cell_type": "code",
      "metadata": {
        "colab": {
          "base_uri": "https://localhost:8080/"
        },
        "id": "v0cKJ82Mj_1U",
        "outputId": "51a6f060-99db-4b23-a0b6-bea9e1c2af79"
      },
      "source": [
        "print(train_labels[0])\n",
        "\n",
        "train_labels = to_categorical(train_labels)\n",
        "test_labels = to_categorical(test_labels)\n",
        "\n",
        "print(train_labels[0])"
      ],
      "execution_count": 3,
      "outputs": [
        {
          "output_type": "stream",
          "text": [
            "[6]\n",
            "[0. 0. 0. 0. 0. 0. 1. 0. 0. 0.]\n"
          ],
          "name": "stdout"
        }
      ]
    },
    {
      "cell_type": "code",
      "metadata": {
        "id": "mMTb0auVmzpm"
      },
      "source": [
        "def conv(filters, kernel_size, strides=1):\n",
        "  return Conv2D(filters, kernel_size, strides=strides, padding='same', use_bias=False, kernel_initializer='he_normal', kernel_regularizer=l2(0.0001))\n",
        "  "
      ],
      "execution_count": 4,
      "outputs": []
    },
    {
      "cell_type": "code",
      "metadata": {
        "id": "k5kYWx59qg0c"
      },
      "source": [
        "def first_residual_unit(filters, strides):\n",
        "  def f(x):\n",
        "    x = BatchNormalization()(x)\n",
        "    x_b = Activation('relu')(x)\n",
        "    x = conv(filters // 4, 1, strides)(x_b)\n",
        "    x = BatchNormalization()(x)\n",
        "    x = Activation('relu')(x)\n",
        "    x = conv(filters // 4, 3)(x)\n",
        "    x = BatchNormalization()(x)\n",
        "    x = Activation('relu')(x)\n",
        "    x = conv(filters, 1)(x)\n",
        "    x_b = conv(filters, 1, strides)(x_b)\n",
        "    return Add()([x, x_b])\n",
        "  return f\n"
      ],
      "execution_count": 5,
      "outputs": []
    },
    {
      "cell_type": "code",
      "metadata": {
        "id": "rfDTFb0atJzH"
      },
      "source": [
        "def residual_unit(filters):\n",
        "  def f(x):\n",
        "    x_b = x\n",
        "    x = BatchNormalization()(x)\n",
        "    x = Activation('relu')(x)\n",
        "    x = conv(filters // 4, 1)(x)\n",
        "    x = BatchNormalization()(x)\n",
        "    x = Activation('relu')(x)\n",
        "    x = conv(filters // 4, 3)(x)\n",
        "    x = BatchNormalization()(x)\n",
        "    x = Activation('relu')(x)\n",
        "    x = conv(filters, 1)(x)\n",
        "    return Add()([x, x_b])\n",
        "  return f\n"
      ],
      "execution_count": 6,
      "outputs": []
    },
    {
      "cell_type": "code",
      "metadata": {
        "id": "t6VB9nUMvJnG"
      },
      "source": [
        "def residual_block(filters, strides, unit_size):\n",
        "  def f(x):\n",
        "    x = first_residual_unit(filters, strides)(x)\n",
        "    for i in range(unit_size-1):\n",
        "      x = residual_unit(filters)(x)\n",
        "    return x\n",
        "  return f\n"
      ],
      "execution_count": 7,
      "outputs": []
    },
    {
      "cell_type": "code",
      "metadata": {
        "id": "hqKBN4S0vdMI"
      },
      "source": [
        "input = Input(shape=(32, 32, 3))\n",
        "x = conv(16, 3)(input)\n",
        "x = residual_block(64, 1, 18)(x)\n",
        "x = residual_block(128, 2, 18)(x)\n",
        "x = residual_block(256, 2, 18)(x)\n",
        "\n",
        "x = BatchNormalization()(x)\n",
        "x = Activation('relu')(x)\n",
        "x = GlobalAveragePooling2D()(x)\n",
        "output = Dense(10, activation='softmax', kernel_regularizer=l2(0.001))(x)\n",
        "\n",
        "model = Model(inputs=input, outputs=output)"
      ],
      "execution_count": 8,
      "outputs": []
    },
    {
      "cell_type": "code",
      "metadata": {
        "id": "9fQyPH2uzXRE"
      },
      "source": [
        "model.compile(loss='categorical_crossentropy', optimizer=SGD(momentum=0.9), metrics=['acc'])"
      ],
      "execution_count": 9,
      "outputs": []
    },
    {
      "cell_type": "code",
      "metadata": {
        "id": "Yb71ec7PzmzF"
      },
      "source": [
        "train_gen = ImageDataGenerator(featurewise_center=True, featurewise_std_normalization=True, width_shift_range=0.125, height_shift_range=0.125, horizontal_flip=True)\n",
        "\n",
        "test_gen = ImageDataGenerator(featurewise_center=True, featurewise_std_normalization=True)\n",
        "\n",
        "for data in (train_gen, test_gen):\n",
        "  data.fit(train_images)"
      ],
      "execution_count": 10,
      "outputs": []
    },
    {
      "cell_type": "code",
      "metadata": {
        "id": "0HDgsHR50JUA"
      },
      "source": [
        "def step_decay(epoch):\n",
        "  x = 0.1\n",
        "  if epoch >= 80:\n",
        "    x = 0.01\n",
        "  if epoch >= 120:\n",
        "    x = 0.0001\n",
        "  return x\n",
        "lr_decay = LearningRateScheduler(step_decay)"
      ],
      "execution_count": 11,
      "outputs": []
    },
    {
      "cell_type": "code",
      "metadata": {
        "colab": {
          "base_uri": "https://localhost:8080/"
        },
        "id": "a2hCxBB50hiI",
        "outputId": "8f74cdd5-b47e-43db-8db0-be219241319f"
      },
      "source": [
        "batch_size = 128\n",
        "history = model.fit(train_gen.flow(train_images, train_labels, batch_size=batch_size), epochs=120, steps_per_epoch = train_images.shape[0] // batch_size, \n",
        "validation_data=test_gen.flow(test_images, test_labels, batch_size = batch_size), validation_steps=test_images.shape[0] // batch_size, callbacks=[lr_decay])"
      ],
      "execution_count": 12,
      "outputs": [
        {
          "output_type": "stream",
          "text": [
            "Epoch 1/120\n",
            "390/390 [==============================] - 86s 183ms/step - loss: 4.6987 - acc: 0.2865 - val_loss: 4.7184 - val_acc: 0.3399\n",
            "Epoch 2/120\n",
            "390/390 [==============================] - 68s 175ms/step - loss: 3.8521 - acc: 0.4932 - val_loss: 3.5594 - val_acc: 0.5457\n",
            "Epoch 3/120\n",
            "390/390 [==============================] - 68s 175ms/step - loss: 3.2582 - acc: 0.6016 - val_loss: 3.2308 - val_acc: 0.5952\n",
            "Epoch 4/120\n",
            "390/390 [==============================] - 68s 175ms/step - loss: 2.7818 - acc: 0.6831 - val_loss: 2.7996 - val_acc: 0.6424\n",
            "Epoch 5/120\n",
            "390/390 [==============================] - 68s 175ms/step - loss: 2.4258 - acc: 0.7328 - val_loss: 2.4156 - val_acc: 0.6892\n",
            "Epoch 6/120\n",
            "390/390 [==============================] - 68s 175ms/step - loss: 2.1535 - acc: 0.7582 - val_loss: 2.0596 - val_acc: 0.7510\n",
            "Epoch 7/120\n",
            "390/390 [==============================] - 68s 175ms/step - loss: 1.9229 - acc: 0.7852 - val_loss: 1.9004 - val_acc: 0.7569\n",
            "Epoch 8/120\n",
            "390/390 [==============================] - 68s 175ms/step - loss: 1.7444 - acc: 0.7970 - val_loss: 1.8626 - val_acc: 0.7210\n",
            "Epoch 9/120\n",
            "390/390 [==============================] - 68s 175ms/step - loss: 1.5787 - acc: 0.8088 - val_loss: 1.5826 - val_acc: 0.7866\n",
            "Epoch 10/120\n",
            "390/390 [==============================] - 68s 175ms/step - loss: 1.4331 - acc: 0.8231 - val_loss: 1.6668 - val_acc: 0.7322\n",
            "Epoch 11/120\n",
            "390/390 [==============================] - 68s 175ms/step - loss: 1.3386 - acc: 0.8255 - val_loss: 1.6002 - val_acc: 0.7294\n",
            "Epoch 12/120\n",
            "390/390 [==============================] - 68s 175ms/step - loss: 1.2372 - acc: 0.8352 - val_loss: 1.3576 - val_acc: 0.7864\n",
            "Epoch 13/120\n",
            "390/390 [==============================] - 68s 175ms/step - loss: 1.1590 - acc: 0.8427 - val_loss: 1.3121 - val_acc: 0.7711\n",
            "Epoch 14/120\n",
            "390/390 [==============================] - 68s 175ms/step - loss: 1.0776 - acc: 0.8496 - val_loss: 1.3528 - val_acc: 0.7752\n",
            "Epoch 15/120\n",
            "390/390 [==============================] - 68s 174ms/step - loss: 1.0227 - acc: 0.8517 - val_loss: 1.2055 - val_acc: 0.7855\n",
            "Epoch 16/120\n",
            "390/390 [==============================] - 68s 175ms/step - loss: 0.9630 - acc: 0.8604 - val_loss: 1.0699 - val_acc: 0.8138\n",
            "Epoch 17/120\n",
            "390/390 [==============================] - 68s 175ms/step - loss: 0.9296 - acc: 0.8610 - val_loss: 1.0735 - val_acc: 0.8070\n",
            "Epoch 18/120\n",
            "390/390 [==============================] - 68s 175ms/step - loss: 0.8831 - acc: 0.8645 - val_loss: 1.2146 - val_acc: 0.7392\n",
            "Epoch 19/120\n",
            "390/390 [==============================] - 69s 177ms/step - loss: 0.8494 - acc: 0.8674 - val_loss: 1.2410 - val_acc: 0.7531\n",
            "Epoch 20/120\n",
            "390/390 [==============================] - 69s 176ms/step - loss: 0.8277 - acc: 0.8709 - val_loss: 1.1204 - val_acc: 0.7732\n",
            "Epoch 21/120\n",
            "390/390 [==============================] - 68s 175ms/step - loss: 0.7947 - acc: 0.8767 - val_loss: 0.9978 - val_acc: 0.8103\n",
            "Epoch 22/120\n",
            "390/390 [==============================] - 68s 176ms/step - loss: 0.7821 - acc: 0.8744 - val_loss: 1.0258 - val_acc: 0.7955\n",
            "Epoch 23/120\n",
            "390/390 [==============================] - 68s 175ms/step - loss: 0.7664 - acc: 0.8782 - val_loss: 1.0584 - val_acc: 0.7784\n",
            "Epoch 24/120\n",
            "390/390 [==============================] - 68s 175ms/step - loss: 0.7470 - acc: 0.8763 - val_loss: 1.0246 - val_acc: 0.7956\n",
            "Epoch 25/120\n",
            "390/390 [==============================] - 68s 175ms/step - loss: 0.7244 - acc: 0.8841 - val_loss: 1.1067 - val_acc: 0.7689\n",
            "Epoch 26/120\n",
            "390/390 [==============================] - 68s 175ms/step - loss: 0.7151 - acc: 0.8838 - val_loss: 1.0076 - val_acc: 0.7947\n",
            "Epoch 27/120\n",
            "390/390 [==============================] - 68s 175ms/step - loss: 0.7022 - acc: 0.8868 - val_loss: 0.9359 - val_acc: 0.8138\n",
            "Epoch 28/120\n",
            "390/390 [==============================] - 68s 175ms/step - loss: 0.6963 - acc: 0.8882 - val_loss: 0.9295 - val_acc: 0.8180\n",
            "Epoch 29/120\n",
            "390/390 [==============================] - 68s 175ms/step - loss: 0.6880 - acc: 0.8898 - val_loss: 0.9854 - val_acc: 0.7969\n",
            "Epoch 30/120\n",
            "390/390 [==============================] - 68s 175ms/step - loss: 0.6714 - acc: 0.8893 - val_loss: 1.3771 - val_acc: 0.6997\n",
            "Epoch 31/120\n",
            "390/390 [==============================] - 68s 175ms/step - loss: 0.6734 - acc: 0.8904 - val_loss: 0.9763 - val_acc: 0.8070\n",
            "Epoch 32/120\n",
            "390/390 [==============================] - 68s 175ms/step - loss: 0.6679 - acc: 0.8915 - val_loss: 0.8819 - val_acc: 0.8314\n",
            "Epoch 33/120\n",
            "390/390 [==============================] - 69s 176ms/step - loss: 0.6448 - acc: 0.8988 - val_loss: 0.9739 - val_acc: 0.7958\n",
            "Epoch 34/120\n",
            "390/390 [==============================] - 68s 175ms/step - loss: 0.6535 - acc: 0.8948 - val_loss: 1.0279 - val_acc: 0.7982\n",
            "Epoch 35/120\n",
            "390/390 [==============================] - 68s 175ms/step - loss: 0.6457 - acc: 0.8980 - val_loss: 0.8662 - val_acc: 0.8283\n",
            "Epoch 36/120\n",
            "390/390 [==============================] - 68s 175ms/step - loss: 0.6437 - acc: 0.8970 - val_loss: 0.9451 - val_acc: 0.7996\n",
            "Epoch 37/120\n",
            "390/390 [==============================] - 68s 176ms/step - loss: 0.6387 - acc: 0.8963 - val_loss: 0.9557 - val_acc: 0.8028\n",
            "Epoch 38/120\n",
            "390/390 [==============================] - 69s 176ms/step - loss: 0.6415 - acc: 0.8989 - val_loss: 0.9243 - val_acc: 0.8202\n",
            "Epoch 39/120\n",
            "390/390 [==============================] - 68s 175ms/step - loss: 0.6305 - acc: 0.9009 - val_loss: 0.9977 - val_acc: 0.7928\n",
            "Epoch 40/120\n",
            "390/390 [==============================] - 68s 175ms/step - loss: 0.6300 - acc: 0.9008 - val_loss: 0.9419 - val_acc: 0.8084\n",
            "Epoch 41/120\n",
            "390/390 [==============================] - 68s 175ms/step - loss: 0.6338 - acc: 0.8992 - val_loss: 0.9329 - val_acc: 0.8097\n",
            "Epoch 42/120\n",
            "390/390 [==============================] - 68s 175ms/step - loss: 0.6194 - acc: 0.9049 - val_loss: 0.9697 - val_acc: 0.8004\n",
            "Epoch 43/120\n",
            "390/390 [==============================] - 68s 175ms/step - loss: 0.6241 - acc: 0.9031 - val_loss: 0.9332 - val_acc: 0.8168\n",
            "Epoch 44/120\n",
            "390/390 [==============================] - 68s 175ms/step - loss: 0.6167 - acc: 0.9055 - val_loss: 0.9547 - val_acc: 0.8146\n",
            "Epoch 45/120\n",
            "390/390 [==============================] - 68s 175ms/step - loss: 0.6154 - acc: 0.9057 - val_loss: 0.8136 - val_acc: 0.8424\n",
            "Epoch 46/120\n",
            "390/390 [==============================] - 68s 175ms/step - loss: 0.6258 - acc: 0.9033 - val_loss: 0.8150 - val_acc: 0.8488\n",
            "Epoch 47/120\n",
            "390/390 [==============================] - 69s 176ms/step - loss: 0.6094 - acc: 0.9091 - val_loss: 1.0847 - val_acc: 0.7853\n",
            "Epoch 48/120\n",
            "390/390 [==============================] - 68s 175ms/step - loss: 0.6017 - acc: 0.9104 - val_loss: 0.8645 - val_acc: 0.8325\n",
            "Epoch 49/120\n",
            "390/390 [==============================] - 68s 175ms/step - loss: 0.5991 - acc: 0.9135 - val_loss: 0.8644 - val_acc: 0.8331\n",
            "Epoch 50/120\n",
            "390/390 [==============================] - 68s 175ms/step - loss: 0.6137 - acc: 0.9066 - val_loss: 0.8680 - val_acc: 0.8291\n",
            "Epoch 51/120\n",
            "390/390 [==============================] - 68s 175ms/step - loss: 0.6055 - acc: 0.9085 - val_loss: 0.8307 - val_acc: 0.8471\n",
            "Epoch 52/120\n",
            "390/390 [==============================] - 68s 175ms/step - loss: 0.6015 - acc: 0.9113 - val_loss: 0.8680 - val_acc: 0.8328\n",
            "Epoch 53/120\n",
            "390/390 [==============================] - 68s 175ms/step - loss: 0.5929 - acc: 0.9132 - val_loss: 0.8600 - val_acc: 0.8341\n",
            "Epoch 54/120\n",
            "390/390 [==============================] - 68s 174ms/step - loss: 0.6012 - acc: 0.9130 - val_loss: 1.0145 - val_acc: 0.8026\n",
            "Epoch 55/120\n",
            "390/390 [==============================] - 68s 175ms/step - loss: 0.5953 - acc: 0.9122 - val_loss: 0.8594 - val_acc: 0.8414\n",
            "Epoch 56/120\n",
            "390/390 [==============================] - 68s 175ms/step - loss: 0.5935 - acc: 0.9128 - val_loss: 0.8547 - val_acc: 0.8436\n",
            "Epoch 57/120\n",
            "390/390 [==============================] - 68s 175ms/step - loss: 0.5947 - acc: 0.9147 - val_loss: 0.7869 - val_acc: 0.8589\n",
            "Epoch 58/120\n",
            "390/390 [==============================] - 68s 175ms/step - loss: 0.5826 - acc: 0.9180 - val_loss: 0.8819 - val_acc: 0.8335\n",
            "Epoch 59/120\n",
            "390/390 [==============================] - 68s 175ms/step - loss: 0.5936 - acc: 0.9124 - val_loss: 0.7374 - val_acc: 0.8682\n",
            "Epoch 60/120\n",
            "390/390 [==============================] - 69s 176ms/step - loss: 0.5942 - acc: 0.9138 - val_loss: 0.8803 - val_acc: 0.8391\n",
            "Epoch 61/120\n",
            "390/390 [==============================] - 68s 175ms/step - loss: 0.5896 - acc: 0.9158 - val_loss: 0.9178 - val_acc: 0.8277\n",
            "Epoch 62/120\n",
            "390/390 [==============================] - 68s 175ms/step - loss: 0.5875 - acc: 0.9152 - val_loss: 0.7910 - val_acc: 0.8571\n",
            "Epoch 63/120\n",
            "390/390 [==============================] - 68s 175ms/step - loss: 0.5955 - acc: 0.9152 - val_loss: 0.8134 - val_acc: 0.8581\n",
            "Epoch 64/120\n",
            "390/390 [==============================] - 68s 175ms/step - loss: 0.5843 - acc: 0.9188 - val_loss: 0.7731 - val_acc: 0.8653\n",
            "Epoch 65/120\n",
            "390/390 [==============================] - 68s 175ms/step - loss: 0.5855 - acc: 0.9173 - val_loss: 0.9719 - val_acc: 0.8112\n",
            "Epoch 66/120\n",
            "390/390 [==============================] - 68s 175ms/step - loss: 0.5885 - acc: 0.9167 - val_loss: 0.8597 - val_acc: 0.8345\n",
            "Epoch 67/120\n",
            "390/390 [==============================] - 68s 175ms/step - loss: 0.5677 - acc: 0.9221 - val_loss: 0.7730 - val_acc: 0.8616\n",
            "Epoch 68/120\n",
            "390/390 [==============================] - 68s 175ms/step - loss: 0.5718 - acc: 0.9228 - val_loss: 0.8078 - val_acc: 0.8514\n",
            "Epoch 69/120\n",
            "390/390 [==============================] - 68s 175ms/step - loss: 0.5792 - acc: 0.9191 - val_loss: 0.8391 - val_acc: 0.8462\n",
            "Epoch 70/120\n",
            "390/390 [==============================] - 68s 175ms/step - loss: 0.5766 - acc: 0.9215 - val_loss: 0.7686 - val_acc: 0.8663\n",
            "Epoch 71/120\n",
            "390/390 [==============================] - 68s 175ms/step - loss: 0.5756 - acc: 0.9206 - val_loss: 0.7963 - val_acc: 0.8579\n",
            "Epoch 72/120\n",
            "390/390 [==============================] - 69s 176ms/step - loss: 0.5750 - acc: 0.9221 - val_loss: 0.8390 - val_acc: 0.8499\n",
            "Epoch 73/120\n",
            "390/390 [==============================] - 69s 176ms/step - loss: 0.5788 - acc: 0.9196 - val_loss: 0.7884 - val_acc: 0.8614\n",
            "Epoch 74/120\n",
            "390/390 [==============================] - 69s 176ms/step - loss: 0.5849 - acc: 0.9174 - val_loss: 0.7291 - val_acc: 0.8746\n",
            "Epoch 75/120\n",
            "390/390 [==============================] - 68s 175ms/step - loss: 0.5747 - acc: 0.9210 - val_loss: 0.7837 - val_acc: 0.8731\n",
            "Epoch 76/120\n",
            "390/390 [==============================] - 68s 175ms/step - loss: 0.5720 - acc: 0.9217 - val_loss: 0.7569 - val_acc: 0.8685\n",
            "Epoch 77/120\n",
            "390/390 [==============================] - 68s 175ms/step - loss: 0.5755 - acc: 0.9205 - val_loss: 0.8537 - val_acc: 0.8363\n",
            "Epoch 78/120\n",
            "390/390 [==============================] - 68s 175ms/step - loss: 0.5637 - acc: 0.9260 - val_loss: 0.8982 - val_acc: 0.8417\n",
            "Epoch 79/120\n",
            "390/390 [==============================] - 68s 175ms/step - loss: 0.5745 - acc: 0.9210 - val_loss: 0.7528 - val_acc: 0.8623\n",
            "Epoch 80/120\n",
            "390/390 [==============================] - 68s 175ms/step - loss: 0.5677 - acc: 0.9256 - val_loss: 0.8115 - val_acc: 0.8523\n",
            "Epoch 81/120\n",
            "390/390 [==============================] - 68s 175ms/step - loss: 0.5157 - acc: 0.9420 - val_loss: 0.5617 - val_acc: 0.9291\n",
            "Epoch 82/120\n",
            "390/390 [==============================] - 68s 175ms/step - loss: 0.4367 - acc: 0.9685 - val_loss: 0.5460 - val_acc: 0.9333\n",
            "Epoch 83/120\n",
            "390/390 [==============================] - 68s 175ms/step - loss: 0.4153 - acc: 0.9746 - val_loss: 0.5397 - val_acc: 0.9353\n",
            "Epoch 84/120\n",
            "390/390 [==============================] - 68s 175ms/step - loss: 0.3989 - acc: 0.9788 - val_loss: 0.5407 - val_acc: 0.9343\n",
            "Epoch 85/120\n",
            "390/390 [==============================] - 69s 176ms/step - loss: 0.3908 - acc: 0.9793 - val_loss: 0.5295 - val_acc: 0.9354\n",
            "Epoch 86/120\n",
            "390/390 [==============================] - 69s 178ms/step - loss: 0.3827 - acc: 0.9795 - val_loss: 0.5264 - val_acc: 0.9362\n",
            "Epoch 87/120\n",
            "390/390 [==============================] - 69s 176ms/step - loss: 0.3711 - acc: 0.9826 - val_loss: 0.5191 - val_acc: 0.9361\n",
            "Epoch 88/120\n",
            "390/390 [==============================] - 68s 175ms/step - loss: 0.3631 - acc: 0.9831 - val_loss: 0.5200 - val_acc: 0.9357\n",
            "Epoch 89/120\n",
            "390/390 [==============================] - 68s 175ms/step - loss: 0.3543 - acc: 0.9846 - val_loss: 0.5141 - val_acc: 0.9376\n",
            "Epoch 90/120\n",
            "390/390 [==============================] - 68s 175ms/step - loss: 0.3473 - acc: 0.9862 - val_loss: 0.5108 - val_acc: 0.9373\n",
            "Epoch 91/120\n",
            "390/390 [==============================] - 68s 175ms/step - loss: 0.3427 - acc: 0.9853 - val_loss: 0.5093 - val_acc: 0.9389\n",
            "Epoch 92/120\n",
            "390/390 [==============================] - 68s 175ms/step - loss: 0.3317 - acc: 0.9883 - val_loss: 0.5126 - val_acc: 0.9357\n",
            "Epoch 93/120\n",
            "390/390 [==============================] - 68s 175ms/step - loss: 0.3251 - acc: 0.9893 - val_loss: 0.5078 - val_acc: 0.9366\n",
            "Epoch 94/120\n",
            "390/390 [==============================] - 69s 176ms/step - loss: 0.3206 - acc: 0.9895 - val_loss: 0.4890 - val_acc: 0.9402\n",
            "Epoch 95/120\n",
            "390/390 [==============================] - 69s 177ms/step - loss: 0.3161 - acc: 0.9891 - val_loss: 0.4997 - val_acc: 0.9371\n",
            "Epoch 96/120\n",
            "390/390 [==============================] - 69s 177ms/step - loss: 0.3086 - acc: 0.9903 - val_loss: 0.4922 - val_acc: 0.9395\n",
            "Epoch 97/120\n",
            "390/390 [==============================] - 69s 176ms/step - loss: 0.3028 - acc: 0.9912 - val_loss: 0.4846 - val_acc: 0.9402\n",
            "Epoch 98/120\n",
            "390/390 [==============================] - 68s 175ms/step - loss: 0.2990 - acc: 0.9918 - val_loss: 0.4898 - val_acc: 0.9386\n",
            "Epoch 99/120\n",
            "390/390 [==============================] - 69s 176ms/step - loss: 0.2934 - acc: 0.9918 - val_loss: 0.5121 - val_acc: 0.9325\n",
            "Epoch 100/120\n",
            "390/390 [==============================] - 69s 176ms/step - loss: 0.2853 - acc: 0.9928 - val_loss: 0.4845 - val_acc: 0.9375\n",
            "Epoch 101/120\n",
            "390/390 [==============================] - 69s 176ms/step - loss: 0.2834 - acc: 0.9920 - val_loss: 0.4893 - val_acc: 0.9328\n",
            "Epoch 102/120\n",
            "390/390 [==============================] - 69s 176ms/step - loss: 0.2782 - acc: 0.9929 - val_loss: 0.5230 - val_acc: 0.9341\n",
            "Epoch 103/120\n",
            "390/390 [==============================] - 69s 176ms/step - loss: 0.2728 - acc: 0.9932 - val_loss: 0.4964 - val_acc: 0.9359\n",
            "Epoch 104/120\n",
            "390/390 [==============================] - 69s 176ms/step - loss: 0.2689 - acc: 0.9936 - val_loss: 0.4791 - val_acc: 0.9386\n",
            "Epoch 105/120\n",
            "390/390 [==============================] - 69s 176ms/step - loss: 0.2645 - acc: 0.9936 - val_loss: 0.4781 - val_acc: 0.9373\n",
            "Epoch 106/120\n",
            "390/390 [==============================] - 69s 176ms/step - loss: 0.2639 - acc: 0.9923 - val_loss: 0.4798 - val_acc: 0.9359\n",
            "Epoch 107/120\n",
            "390/390 [==============================] - 68s 175ms/step - loss: 0.2590 - acc: 0.9932 - val_loss: 0.4729 - val_acc: 0.9378\n",
            "Epoch 108/120\n",
            "390/390 [==============================] - 69s 176ms/step - loss: 0.2545 - acc: 0.9937 - val_loss: 0.4810 - val_acc: 0.9371\n",
            "Epoch 109/120\n",
            "390/390 [==============================] - 69s 176ms/step - loss: 0.2519 - acc: 0.9930 - val_loss: 0.4750 - val_acc: 0.9357\n",
            "Epoch 110/120\n",
            "390/390 [==============================] - 69s 176ms/step - loss: 0.2462 - acc: 0.9942 - val_loss: 0.4695 - val_acc: 0.9352\n",
            "Epoch 111/120\n",
            "390/390 [==============================] - 69s 176ms/step - loss: 0.2444 - acc: 0.9939 - val_loss: 0.4857 - val_acc: 0.9325\n",
            "Epoch 112/120\n",
            "390/390 [==============================] - 69s 176ms/step - loss: 0.2398 - acc: 0.9943 - val_loss: 0.4706 - val_acc: 0.9361\n",
            "Epoch 113/120\n",
            "390/390 [==============================] - 68s 175ms/step - loss: 0.2371 - acc: 0.9945 - val_loss: 0.4712 - val_acc: 0.9347\n",
            "Epoch 114/120\n",
            "390/390 [==============================] - 69s 176ms/step - loss: 0.2359 - acc: 0.9940 - val_loss: 0.4584 - val_acc: 0.9372\n",
            "Epoch 115/120\n",
            "390/390 [==============================] - 68s 176ms/step - loss: 0.2318 - acc: 0.9941 - val_loss: 0.4588 - val_acc: 0.9373\n",
            "Epoch 116/120\n",
            "390/390 [==============================] - 69s 176ms/step - loss: 0.2307 - acc: 0.9936 - val_loss: 0.4645 - val_acc: 0.9343\n",
            "Epoch 117/120\n",
            "390/390 [==============================] - 69s 176ms/step - loss: 0.2258 - acc: 0.9937 - val_loss: 0.4786 - val_acc: 0.9308\n",
            "Epoch 118/120\n",
            "390/390 [==============================] - 69s 176ms/step - loss: 0.2239 - acc: 0.9940 - val_loss: 0.4672 - val_acc: 0.9329\n",
            "Epoch 119/120\n",
            "390/390 [==============================] - 69s 176ms/step - loss: 0.2206 - acc: 0.9942 - val_loss: 0.4517 - val_acc: 0.9347\n",
            "Epoch 120/120\n",
            "390/390 [==============================] - 69s 176ms/step - loss: 0.2206 - acc: 0.9936 - val_loss: 0.4478 - val_acc: 0.9333\n"
          ],
          "name": "stdout"
        }
      ]
    },
    {
      "cell_type": "code",
      "metadata": {
        "colab": {
          "base_uri": "https://localhost:8080/",
          "height": 279
        },
        "id": "qohyDPaa3CuQ",
        "outputId": "b9ec2a64-b2f0-475e-af5c-ee2fe10be2fb"
      },
      "source": [
        "plt.plot(history.history['acc'], label='acc')\n",
        "plt.plot(history.history['val_acc'], label='val_acc')\n",
        "plt.ylabel('accuracy')\n",
        "plt.xlabel('epoch')\n",
        "plt.legend(loc='best')\n",
        "plt.show()"
      ],
      "execution_count": 13,
      "outputs": [
        {
          "output_type": "display_data",
          "data": {
            "image/png": "[encoded data removed]",
            "text/plain": [
              "<Figure size 432x288 with 1 Axes>"
            ]
          },
          "metadata": {
            "tags": [],
            "needs_background": "light"
          }
        }
      ]
    },
    {
      "cell_type": "code",
      "metadata": {
        "colab": {
          "base_uri": "https://localhost:8080/"
        },
        "id": "uwIxWr203WPI",
        "outputId": "47f3916e-0148-4adc-8b92-adfd27020282"
      },
      "source": [
        "test_loss, test_acc = model.evaluate(test_gen.flow(test_images, test_labels))\n",
        "print('loss: {:.3f}\\nacc: {:.3f}'.format(test_loss, test_acc))"
      ],
      "execution_count": 15,
      "outputs": [
        {
          "output_type": "stream",
          "text": [
            "313/313 [==============================] - 7s 23ms/step - loss: 0.4474 - acc: 0.9334\n",
            "loss: 0.447\n",
            "acc: 0.933\n"
          ],
          "name": "stdout"
        }
      ]
    },
    {
      "cell_type": "code",
      "metadata": {
        "colab": {
          "base_uri": "https://localhost:8080/"
        },
        "id": "8MFd0ICh4zxU",
        "outputId": "8496651d-a57e-41d1-fae5-de746bfbb02c"
      },
      "source": [
        "test_predictions = model.predict(test_gen.flow(test_images[0:10], shuffle=False))\n",
        "test_predictions = np.argmax(test_predictions, axis=1)\n",
        "labels = ['airplane', 'automobile', 'bird', 'cat', 'deer', 'dog', 'frog', 'horse', 'ship', 'truck']\n",
        "test_ans = np.argmax(test_labels[:10], axis=1)\n",
        "print('前10筆測試標籤:', [labels[n] for n in test_ans])\n",
        "print('前10筆預測標籤:', [labels[n] for n in test_predictions])"
      ],
      "execution_count": 17,
      "outputs": [
        {
          "output_type": "stream",
          "text": [
            "前10筆測試標籤: ['cat', 'ship', 'ship', 'airplane', 'frog', 'frog', 'automobile', 'frog', 'cat', 'automobile']\n",
            "前10筆預測標籤: ['cat', 'ship', 'ship', 'airplane', 'frog', 'frog', 'automobile', 'frog', 'cat', 'automobile']\n"
          ],
          "name": "stdout"
        }
      ]
    }
  ]
}