{
  "nbformat": 4,
  "nbformat_minor": 0,
  "metadata": {
    "colab": {
      "name": "sklearn_polynomial_regression1.ipynb",
      "provenance": [],
      "collapsed_sections": [],
      "authorship_tag": "ABX9TyMtyZ2b7WgngEfg1ApbN63t",
      "include_colab_link": true
    },
    "kernelspec": {
      "name": "python3",
      "display_name": "Python 3"
    },
    "language_info": {
      "name": "python"
    }
  },
  "cells": [
    {
      "cell_type": "markdown",
      "metadata": {
        "id": "view-in-github",
        "colab_type": "text"
      },
      "source": [
        "<a href=\"https://colab.research.google.com/github/tzuyichao/python-basic/blob/master/colab/sklearn_polynomial_regression1.ipynb\" target=\"_parent\"><img src=\"https://colab.research.google.com/assets/colab-badge.svg\" alt=\"Open In Colab\"/></a>"
      ]
    },
    {
      "cell_type": "code",
      "execution_count": 1,
      "metadata": {
        "id": "Z9ENyaQsLhLx"
      },
      "outputs": [],
      "source": [
        "from sklearn import linear_model\n",
        "from sklearn.pipeline import make_pipeline\n",
        "from sklearn.preprocessing import PolynomialFeatures"
      ]
    },
    {
      "cell_type": "code",
      "source": [
        "pipeline = make_pipeline(PolynomialFeatures(3), linear_model.LinearRegression())\n",
        "pipeline"
      ],
      "metadata": {
        "colab": {
          "base_uri": "https://localhost:8080/"
        },
        "id": "McIhBr3fNC2M",
        "outputId": "dd878d94-d7a1-429d-8981-03d3cc6cca94"
      },
      "execution_count": 2,
      "outputs": [
        {
          "output_type": "execute_result",
          "data": {
            "text/plain": [
              "Pipeline(steps=[('polynomialfeatures', PolynomialFeatures(degree=3)),\n",
              "                ('linearregression', LinearRegression())])"
            ]
          },
          "metadata": {},
          "execution_count": 2
        }
      ]
    },
    {
      "cell_type": "code",
      "source": [
        "import numpy as np\n",
        "x = np.array([[0], [1.603], [2.501], [4.267], [5.224], [6.791], [8.533], [10.08], [11.42], [12.387], [14.239]])\n",
        "y = np.array([0.664, 0.555, 0.495, 0.382, 0.294, 0.165, 0.145, 0.153, 0.121, 0.068, 0])\n",
        "pipeline.fit(x, y)"
      ],
      "metadata": {
        "colab": {
          "base_uri": "https://localhost:8080/"
        },
        "id": "DnGjLaleNgXt",
        "outputId": "37cf7391-6c10-4356-f5be-ccf4eea45bd3"
      },
      "execution_count": 3,
      "outputs": [
        {
          "output_type": "execute_result",
          "data": {
            "text/plain": [
              "Pipeline(steps=[('polynomialfeatures', PolynomialFeatures(degree=3)),\n",
              "                ('linearregression', LinearRegression())])"
            ]
          },
          "metadata": {},
          "execution_count": 3
        }
      ]
    },
    {
      "cell_type": "code",
      "source": [
        "print(pipeline.steps)\n",
        "print(pipeline['linearregression'].coef_)\n",
        "print(pipeline['linearregression'].intercept_)"
      ],
      "metadata": {
        "colab": {
          "base_uri": "https://localhost:8080/"
        },
        "id": "OUAL96RnP0hh",
        "outputId": "59cd009b-ea21-47d1-be0c-0b3fe9a0f8b6"
      },
      "execution_count": 6,
      "outputs": [
        {
          "output_type": "stream",
          "name": "stdout",
          "text": [
            "[('polynomialfeatures', PolynomialFeatures(degree=3)), ('linearregression', LinearRegression())]\n",
            "[ 0.         -0.10241016  0.00630269 -0.00016944]\n",
            "0.6880983831217505\n"
          ]
        }
      ]
    },
    {
      "cell_type": "code",
      "source": [
        "y_pred = pipeline.predict(x)\n",
        "y_pred"
      ],
      "metadata": {
        "colab": {
          "base_uri": "https://localhost:8080/"
        },
        "id": "SpnXhxEORFMT",
        "outputId": "83976e91-6f7d-4560-bf6b-8b0caf8b3451"
      },
      "execution_count": 7,
      "outputs": [
        {
          "output_type": "execute_result",
          "data": {
            "text/plain": [
              "array([0.68809838, 0.53943238, 0.46874315, 0.35270489, 0.30095256,\n",
              "       0.23022897, 0.16786782, 0.12265406, 0.08818582, 0.06456303,\n",
              "       0.01856893])"
            ]
          },
          "metadata": {},
          "execution_count": 7
        }
      ]
    }
  ]
}