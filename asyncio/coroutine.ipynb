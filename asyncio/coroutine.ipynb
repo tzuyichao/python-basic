{
 "cells": [
  {
   "cell_type": "code",
   "execution_count": 1,
   "id": "73238717-33c0-4bc6-875a-999260b6af65",
   "metadata": {},
   "outputs": [],
   "source": [
    "async def f():\n",
    "    return 123"
   ]
  },
  {
   "cell_type": "code",
   "execution_count": 3,
   "id": "8f81000f-60e2-44d9-b967-edecc633ed63",
   "metadata": {},
   "outputs": [
    {
     "data": {
      "text/plain": [
       "function"
      ]
     },
     "execution_count": 3,
     "metadata": {},
     "output_type": "execute_result"
    }
   ],
   "source": [
    "type(f)"
   ]
  },
  {
   "cell_type": "code",
   "execution_count": 4,
   "id": "dc514584-c686-4a60-b89c-325110b52a02",
   "metadata": {},
   "outputs": [
    {
     "data": {
      "text/plain": [
       "True"
      ]
     },
     "execution_count": 4,
     "metadata": {},
     "output_type": "execute_result"
    }
   ],
   "source": [
    "import inspect\n",
    "\n",
    "inspect.iscoroutinefunction(f)"
   ]
  },
  {
   "cell_type": "code",
   "execution_count": 5,
   "id": "e7419263-ba7d-45cf-8188-20db1cb1f53d",
   "metadata": {},
   "outputs": [
    {
     "data": {
      "text/plain": [
       "False"
      ]
     },
     "execution_count": 5,
     "metadata": {},
     "output_type": "execute_result"
    }
   ],
   "source": [
    "inspect.iscoroutine(f)"
   ]
  },
  {
   "cell_type": "code",
   "execution_count": 6,
   "id": "866ca38a-06a9-4c15-9fab-b4145af9ca84",
   "metadata": {},
   "outputs": [
    {
     "data": {
      "text/plain": [
       "coroutine"
      ]
     },
     "execution_count": 6,
     "metadata": {},
     "output_type": "execute_result"
    }
   ],
   "source": [
    "coro = f()\n",
    "\n",
    "type(coro)"
   ]
  },
  {
   "cell_type": "code",
   "execution_count": 7,
   "id": "c316adbf-43e8-4773-877e-4dd5c4f394f4",
   "metadata": {},
   "outputs": [
    {
     "data": {
      "text/plain": [
       "True"
      ]
     },
     "execution_count": 7,
     "metadata": {},
     "output_type": "execute_result"
    }
   ],
   "source": [
    "inspect.iscoroutine(coro)"
   ]
  },
  {
   "cell_type": "code",
   "execution_count": 8,
   "id": "0f3eba3e-d209-447b-898c-654d311c52ad",
   "metadata": {},
   "outputs": [
    {
     "name": "stdout",
     "output_type": "stream",
     "text": [
      "The answer is 123\n"
     ]
    }
   ],
   "source": [
    "try:\n",
    "    coro.send(None)\n",
    "except StopIteration as e:\n",
    "    print(f\"The answer is {e.value}\")"
   ]
  },
  {
   "cell_type": "markdown",
   "id": "19310ec0-bbc4-42f7-a65d-f1ac6b57e27b",
   "metadata": {},
   "source": [
    "## `await` keyword"
   ]
  },
  {
   "cell_type": "code",
   "execution_count": 11,
   "id": "ff6bf545-cee7-44a0-88c8-2178844cae29",
   "metadata": {},
   "outputs": [],
   "source": [
    "import asyncio\n",
    "\n",
    "async def f():\n",
    "    await asyncio.sleep(1.0)\n",
    "    return 123\n",
    "\n",
    "async def main():\n",
    "    result = await f()\n",
    "    return result\n"
   ]
  },
  {
   "cell_type": "code",
   "execution_count": 12,
   "id": "89672c5e-956a-4717-8de1-0a867e54c842",
   "metadata": {},
   "outputs": [
    {
     "data": {
      "text/plain": [
       "123"
      ]
     },
     "execution_count": 12,
     "metadata": {},
     "output_type": "execute_result"
    }
   ],
   "source": [
    "await main()"
   ]
  },
  {
   "cell_type": "code",
   "execution_count": 13,
   "id": "609324a8-41c3-4960-9a7b-ad0850eee634",
   "metadata": {},
   "outputs": [
    {
     "name": "stdout",
     "output_type": "stream",
     "text": [
      "I was cancelled!\n"
     ]
    },
    {
     "ename": "StopIteration",
     "evalue": "",
     "output_type": "error",
     "traceback": [
      "\u001b[1;31m---------------------------------------------------------------------------\u001b[0m",
      "\u001b[1;31mStopIteration\u001b[0m                             Traceback (most recent call last)",
      "Cell \u001b[1;32mIn[13], line 12\u001b[0m\n\u001b[0;32m     10\u001b[0m coro\u001b[38;5;241m.\u001b[39msend(\u001b[38;5;28;01mNone\u001b[39;00m)\n\u001b[0;32m     11\u001b[0m coro\u001b[38;5;241m.\u001b[39msend(\u001b[38;5;28;01mNone\u001b[39;00m)\n\u001b[1;32m---> 12\u001b[0m \u001b[43mcoro\u001b[49m\u001b[38;5;241;43m.\u001b[39;49m\u001b[43mthrow\u001b[49m\u001b[43m(\u001b[49m\u001b[43masyncio\u001b[49m\u001b[38;5;241;43m.\u001b[39;49m\u001b[43mCancelledError\u001b[49m\u001b[43m)\u001b[49m\n",
      "\u001b[1;31mStopIteration\u001b[0m: "
     ]
    }
   ],
   "source": [
    "async def f():\n",
    "    try:\n",
    "        while True: await asyncio.sleep(0)\n",
    "    except asyncio.CancelledError:\n",
    "        print(\"I was cancelled!\")\n",
    "    else:\n",
    "        return 111\n",
    "\n",
    "coro = f()\n",
    "coro.send(None)\n",
    "coro.send(None)\n",
    "coro.throw(asyncio.CancelledError)"
   ]
  },
  {
   "cell_type": "code",
   "execution_count": null,
   "id": "1ea15984-eb24-40fb-b6ce-8bf3c114f554",
   "metadata": {},
   "outputs": [],
   "source": []
  }
 ],
 "metadata": {
  "kernelspec": {
   "display_name": "Python 3 (ipykernel)",
   "language": "python",
   "name": "python3"
  },
  "language_info": {
   "codemirror_mode": {
    "name": "ipython",
    "version": 3
   },
   "file_extension": ".py",
   "mimetype": "text/x-python",
   "name": "python",
   "nbconvert_exporter": "python",
   "pygments_lexer": "ipython3",
   "version": "3.12.1"
  }
 },
 "nbformat": 4,
 "nbformat_minor": 5
}
