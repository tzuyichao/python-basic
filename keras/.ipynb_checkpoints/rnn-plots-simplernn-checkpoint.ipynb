{
 "cells": [
  {
   "cell_type": "code",
   "execution_count": 1,
   "metadata": {},
   "outputs": [
    {
     "name": "stderr",
     "output_type": "stream",
     "text": [
      "Using TensorFlow backend.\n"
     ]
    }
   ],
   "source": [
    "from keras.models import Model\n",
    "from keras.layers import Input, SimpleRNN"
   ]
  },
  {
   "cell_type": "code",
   "execution_count": 2,
   "metadata": {},
   "outputs": [],
   "source": [
    "from IPython.display import SVG\n",
    "from keras.utils.vis_utils import model_to_dot"
   ]
  },
  {
   "cell_type": "code",
   "execution_count": 3,
   "metadata": {},
   "outputs": [],
   "source": [
    "units = 10\n",
    "time_steps = 5\n",
    "input_dim = 15\n",
    "input_shape = (time_steps, input_dim)"
   ]
  },
  {
   "cell_type": "code",
   "execution_count": 4,
   "metadata": {},
   "outputs": [],
   "source": [
    "x = Input(shape=input_shape, name='Input')\n",
    "y = SimpleRNN(units=units, activation='sigmoid', name='SimpleRNN_1')(x)\n",
    "model = Model(inputs=[x], outputs=[y])"
   ]
  },
  {
   "cell_type": "code",
   "execution_count": 5,
   "metadata": {},
   "outputs": [
    {
     "name": "stdout",
     "output_type": "stream",
     "text": [
      "Model: \"model_1\"\n",
      "_________________________________________________________________\n",
      "Layer (type)                 Output Shape              Param #   \n",
      "=================================================================\n",
      "Input (InputLayer)           (None, 5, 15)             0         \n",
      "_________________________________________________________________\n",
      "SimpleRNN_1 (SimpleRNN)      (None, 10)                260       \n",
      "=================================================================\n",
      "Total params: 260\n",
      "Trainable params: 260\n",
      "Non-trainable params: 0\n",
      "_________________________________________________________________\n"
     ]
    }
   ],
   "source": [
    "model.summary()"
   ]
  },
  {
   "cell_type": "code",
   "execution_count": 6,
   "metadata": {},
   "outputs": [
    {
     "data": {
      "image/svg+xml": [
       "<svg height=\"179pt\" viewBox=\"0.00 0.00 330.16 134.00\" width=\"440pt\" xmlns=\"http://www.w3.org/2000/svg\" xmlns:xlink=\"http://www.w3.org/1999/xlink\">\n",
       "<g class=\"graph\" id=\"graph0\" transform=\"scale(0.75 0.75) rotate(0) translate(4 130)\">\n",
       "<title>G</title>\n",
       "<polygon fill=\"white\" points=\"-4,4 -4,-130 326.16,-130 326.16,4 -4,4\" stroke=\"transparent\"/>\n",
       "<!-- 5280660368 -->\n",
       "<g class=\"node\" id=\"node1\">\n",
       "<title>5280660368</title>\n",
       "<polygon fill=\"none\" points=\"30.35,-81.5 30.35,-125.5 291.81,-125.5 291.81,-81.5 30.35,-81.5\" stroke=\"black\"/>\n",
       "<text font-family=\"Times,serif\" font-size=\"14.00\" text-anchor=\"middle\" x=\"87.92\" y=\"-99.3\">Input: InputLayer</text>\n",
       "<polyline fill=\"none\" points=\"145.49,-81.5 145.49,-125.5 \" stroke=\"black\"/>\n",
       "<text font-family=\"Times,serif\" font-size=\"14.00\" text-anchor=\"middle\" x=\"173.32\" y=\"-110.3\">input:</text>\n",
       "<polyline fill=\"none\" points=\"145.49,-103.5 201.16,-103.5 \" stroke=\"black\"/>\n",
       "<text font-family=\"Times,serif\" font-size=\"14.00\" text-anchor=\"middle\" x=\"173.32\" y=\"-88.3\">output:</text>\n",
       "<polyline fill=\"none\" points=\"201.16,-81.5 201.16,-125.5 \" stroke=\"black\"/>\n",
       "<text font-family=\"Times,serif\" font-size=\"14.00\" text-anchor=\"middle\" x=\"246.48\" y=\"-110.3\">(None, 5, 15)</text>\n",
       "<polyline fill=\"none\" points=\"201.16,-103.5 291.81,-103.5 \" stroke=\"black\"/>\n",
       "<text font-family=\"Times,serif\" font-size=\"14.00\" text-anchor=\"middle\" x=\"246.48\" y=\"-88.3\">(None, 5, 15)</text>\n",
       "</g>\n",
       "<!-- 5280619664 -->\n",
       "<g class=\"node\" id=\"node2\">\n",
       "<title>5280619664</title>\n",
       "<polygon fill=\"none\" points=\"0,-0.5 0,-44.5 322.16,-44.5 322.16,-0.5 0,-0.5\" stroke=\"black\"/>\n",
       "<text font-family=\"Times,serif\" font-size=\"14.00\" text-anchor=\"middle\" x=\"87.92\" y=\"-18.3\">SimpleRNN_1: SimpleRNN</text>\n",
       "<polyline fill=\"none\" points=\"175.84,-0.5 175.84,-44.5 \" stroke=\"black\"/>\n",
       "<text font-family=\"Times,serif\" font-size=\"14.00\" text-anchor=\"middle\" x=\"203.68\" y=\"-29.3\">input:</text>\n",
       "<polyline fill=\"none\" points=\"175.84,-22.5 231.51,-22.5 \" stroke=\"black\"/>\n",
       "<text font-family=\"Times,serif\" font-size=\"14.00\" text-anchor=\"middle\" x=\"203.68\" y=\"-7.3\">output:</text>\n",
       "<polyline fill=\"none\" points=\"231.51,-0.5 231.51,-44.5 \" stroke=\"black\"/>\n",
       "<text font-family=\"Times,serif\" font-size=\"14.00\" text-anchor=\"middle\" x=\"276.84\" y=\"-29.3\">(None, 5, 15)</text>\n",
       "<polyline fill=\"none\" points=\"231.51,-22.5 322.16,-22.5 \" stroke=\"black\"/>\n",
       "<text font-family=\"Times,serif\" font-size=\"14.00\" text-anchor=\"middle\" x=\"276.84\" y=\"-7.3\">(None, 10)</text>\n",
       "</g>\n",
       "<!-- 5280660368&#45;&gt;5280619664 -->\n",
       "<g class=\"edge\" id=\"edge1\">\n",
       "<title>5280660368-&gt;5280619664</title>\n",
       "<path d=\"M161.08,-81.33C161.08,-73.18 161.08,-63.7 161.08,-54.8\" fill=\"none\" stroke=\"black\"/>\n",
       "<polygon fill=\"black\" points=\"164.58,-54.73 161.08,-44.73 157.58,-54.73 164.58,-54.73\" stroke=\"black\"/>\n",
       "</g>\n",
       "</g>\n",
       "</svg>"
      ],
      "text/plain": [
       "<IPython.core.display.SVG object>"
      ]
     },
     "execution_count": 6,
     "metadata": {},
     "output_type": "execute_result"
    }
   ],
   "source": [
    "SVG(model_to_dot(model, show_shapes=True).create(prog='dot', format='svg'))"
   ]
  },
  {
   "cell_type": "code",
   "execution_count": 7,
   "metadata": {},
   "outputs": [],
   "source": [
    "y = SimpleRNN(units=units, activation='sigmoid', return_sequences=True, name='SimpleRNN_1')(x)\n",
    "model = Model(inputs=[x], outputs=[y])"
   ]
  },
  {
   "cell_type": "code",
   "execution_count": 8,
   "metadata": {},
   "outputs": [
    {
     "name": "stdout",
     "output_type": "stream",
     "text": [
      "Model: \"model_2\"\n",
      "_________________________________________________________________\n",
      "Layer (type)                 Output Shape              Param #   \n",
      "=================================================================\n",
      "Input (InputLayer)           (None, 5, 15)             0         \n",
      "_________________________________________________________________\n",
      "SimpleRNN_1 (SimpleRNN)      (None, 5, 10)             260       \n",
      "=================================================================\n",
      "Total params: 260\n",
      "Trainable params: 260\n",
      "Non-trainable params: 0\n",
      "_________________________________________________________________\n"
     ]
    }
   ],
   "source": [
    "model.summary()"
   ]
  },
  {
   "cell_type": "code",
   "execution_count": 9,
   "metadata": {},
   "outputs": [
    {
     "data": {
      "image/svg+xml": [
       "<svg height=\"179pt\" viewBox=\"0.00 0.00 330.16 134.00\" width=\"440pt\" xmlns=\"http://www.w3.org/2000/svg\" xmlns:xlink=\"http://www.w3.org/1999/xlink\">\n",
       "<g class=\"graph\" id=\"graph0\" transform=\"scale(0.75 0.75) rotate(0) translate(4 130)\">\n",
       "<title>G</title>\n",
       "<polygon fill=\"white\" points=\"-4,4 -4,-130 326.16,-130 326.16,4 -4,4\" stroke=\"transparent\"/>\n",
       "<!-- 5280660368 -->\n",
       "<g class=\"node\" id=\"node1\">\n",
       "<title>5280660368</title>\n",
       "<polygon fill=\"none\" points=\"30.35,-81.5 30.35,-125.5 291.81,-125.5 291.81,-81.5 30.35,-81.5\" stroke=\"black\"/>\n",
       "<text font-family=\"Times,serif\" font-size=\"14.00\" text-anchor=\"middle\" x=\"87.92\" y=\"-99.3\">Input: InputLayer</text>\n",
       "<polyline fill=\"none\" points=\"145.49,-81.5 145.49,-125.5 \" stroke=\"black\"/>\n",
       "<text font-family=\"Times,serif\" font-size=\"14.00\" text-anchor=\"middle\" x=\"173.32\" y=\"-110.3\">input:</text>\n",
       "<polyline fill=\"none\" points=\"145.49,-103.5 201.16,-103.5 \" stroke=\"black\"/>\n",
       "<text font-family=\"Times,serif\" font-size=\"14.00\" text-anchor=\"middle\" x=\"173.32\" y=\"-88.3\">output:</text>\n",
       "<polyline fill=\"none\" points=\"201.16,-81.5 201.16,-125.5 \" stroke=\"black\"/>\n",
       "<text font-family=\"Times,serif\" font-size=\"14.00\" text-anchor=\"middle\" x=\"246.48\" y=\"-110.3\">(None, 5, 15)</text>\n",
       "<polyline fill=\"none\" points=\"201.16,-103.5 291.81,-103.5 \" stroke=\"black\"/>\n",
       "<text font-family=\"Times,serif\" font-size=\"14.00\" text-anchor=\"middle\" x=\"246.48\" y=\"-88.3\">(None, 5, 15)</text>\n",
       "</g>\n",
       "<!-- 5283086160 -->\n",
       "<g class=\"node\" id=\"node2\">\n",
       "<title>5283086160</title>\n",
       "<polygon fill=\"none\" points=\"0,-0.5 0,-44.5 322.16,-44.5 322.16,-0.5 0,-0.5\" stroke=\"black\"/>\n",
       "<text font-family=\"Times,serif\" font-size=\"14.00\" text-anchor=\"middle\" x=\"87.92\" y=\"-18.3\">SimpleRNN_1: SimpleRNN</text>\n",
       "<polyline fill=\"none\" points=\"175.84,-0.5 175.84,-44.5 \" stroke=\"black\"/>\n",
       "<text font-family=\"Times,serif\" font-size=\"14.00\" text-anchor=\"middle\" x=\"203.68\" y=\"-29.3\">input:</text>\n",
       "<polyline fill=\"none\" points=\"175.84,-22.5 231.51,-22.5 \" stroke=\"black\"/>\n",
       "<text font-family=\"Times,serif\" font-size=\"14.00\" text-anchor=\"middle\" x=\"203.68\" y=\"-7.3\">output:</text>\n",
       "<polyline fill=\"none\" points=\"231.51,-0.5 231.51,-44.5 \" stroke=\"black\"/>\n",
       "<text font-family=\"Times,serif\" font-size=\"14.00\" text-anchor=\"middle\" x=\"276.84\" y=\"-29.3\">(None, 5, 15)</text>\n",
       "<polyline fill=\"none\" points=\"231.51,-22.5 322.16,-22.5 \" stroke=\"black\"/>\n",
       "<text font-family=\"Times,serif\" font-size=\"14.00\" text-anchor=\"middle\" x=\"276.84\" y=\"-7.3\">(None, 5, 10)</text>\n",
       "</g>\n",
       "<!-- 5280660368&#45;&gt;5283086160 -->\n",
       "<g class=\"edge\" id=\"edge1\">\n",
       "<title>5280660368-&gt;5283086160</title>\n",
       "<path d=\"M161.08,-81.33C161.08,-73.18 161.08,-63.7 161.08,-54.8\" fill=\"none\" stroke=\"black\"/>\n",
       "<polygon fill=\"black\" points=\"164.58,-54.73 161.08,-44.73 157.58,-54.73 164.58,-54.73\" stroke=\"black\"/>\n",
       "</g>\n",
       "</g>\n",
       "</svg>"
      ],
      "text/plain": [
       "<IPython.core.display.SVG object>"
      ]
     },
     "execution_count": 9,
     "metadata": {},
     "output_type": "execute_result"
    }
   ],
   "source": [
    "SVG(model_to_dot(model, show_shapes=True).create(prog='dot', format='svg'))"
   ]
  },
  {
   "cell_type": "code",
   "execution_count": 11,
   "metadata": {},
   "outputs": [],
   "source": [
    "y, state = SimpleRNN(units=units, activation='sigmoid', return_state=True, name='SimpleRNN_1')(x)\n",
    "model = Model(inputs=[x], outputs=[y])"
   ]
  },
  {
   "cell_type": "code",
   "execution_count": 12,
   "metadata": {},
   "outputs": [
    {
     "name": "stdout",
     "output_type": "stream",
     "text": [
      "Model: \"model_3\"\n",
      "_________________________________________________________________\n",
      "Layer (type)                 Output Shape              Param #   \n",
      "=================================================================\n",
      "Input (InputLayer)           (None, 5, 15)             0         \n",
      "_________________________________________________________________\n",
      "SimpleRNN_1 (SimpleRNN)      [(None, 10), (None, 10)]  260       \n",
      "=================================================================\n",
      "Total params: 260\n",
      "Trainable params: 260\n",
      "Non-trainable params: 0\n",
      "_________________________________________________________________\n"
     ]
    }
   ],
   "source": [
    "model.summary()"
   ]
  },
  {
   "cell_type": "code",
   "execution_count": 13,
   "metadata": {},
   "outputs": [
    {
     "data": {
      "image/svg+xml": [
       "<svg height=\"179pt\" viewBox=\"0.00 0.00 393.13 134.00\" width=\"524pt\" xmlns=\"http://www.w3.org/2000/svg\" xmlns:xlink=\"http://www.w3.org/1999/xlink\">\n",
       "<g class=\"graph\" id=\"graph0\" transform=\"scale(0.75 0.75) rotate(0) translate(4 130)\">\n",
       "<title>G</title>\n",
       "<polygon fill=\"white\" points=\"-4,4 -4,-130 389.13,-130 389.13,4 -4,4\" stroke=\"transparent\"/>\n",
       "<!-- 5280660368 -->\n",
       "<g class=\"node\" id=\"node1\">\n",
       "<title>5280660368</title>\n",
       "<polygon fill=\"none\" points=\"61.84,-81.5 61.84,-125.5 323.29,-125.5 323.29,-81.5 61.84,-81.5\" stroke=\"black\"/>\n",
       "<text font-family=\"Times,serif\" font-size=\"14.00\" text-anchor=\"middle\" x=\"119.41\" y=\"-99.3\">Input: InputLayer</text>\n",
       "<polyline fill=\"none\" points=\"176.98,-81.5 176.98,-125.5 \" stroke=\"black\"/>\n",
       "<text font-family=\"Times,serif\" font-size=\"14.00\" text-anchor=\"middle\" x=\"204.81\" y=\"-110.3\">input:</text>\n",
       "<polyline fill=\"none\" points=\"176.98,-103.5 232.65,-103.5 \" stroke=\"black\"/>\n",
       "<text font-family=\"Times,serif\" font-size=\"14.00\" text-anchor=\"middle\" x=\"204.81\" y=\"-88.3\">output:</text>\n",
       "<polyline fill=\"none\" points=\"232.65,-81.5 232.65,-125.5 \" stroke=\"black\"/>\n",
       "<text font-family=\"Times,serif\" font-size=\"14.00\" text-anchor=\"middle\" x=\"277.97\" y=\"-110.3\">(None, 5, 15)</text>\n",
       "<polyline fill=\"none\" points=\"232.65,-103.5 323.29,-103.5 \" stroke=\"black\"/>\n",
       "<text font-family=\"Times,serif\" font-size=\"14.00\" text-anchor=\"middle\" x=\"277.97\" y=\"-88.3\">(None, 5, 15)</text>\n",
       "</g>\n",
       "<!-- 5284162192 -->\n",
       "<g class=\"node\" id=\"node2\">\n",
       "<title>5284162192</title>\n",
       "<polygon fill=\"none\" points=\"0,-0.5 0,-44.5 385.13,-44.5 385.13,-0.5 0,-0.5\" stroke=\"black\"/>\n",
       "<text font-family=\"Times,serif\" font-size=\"14.00\" text-anchor=\"middle\" x=\"87.92\" y=\"-18.3\">SimpleRNN_1: SimpleRNN</text>\n",
       "<polyline fill=\"none\" points=\"175.84,-0.5 175.84,-44.5 \" stroke=\"black\"/>\n",
       "<text font-family=\"Times,serif\" font-size=\"14.00\" text-anchor=\"middle\" x=\"203.68\" y=\"-29.3\">input:</text>\n",
       "<polyline fill=\"none\" points=\"175.84,-22.5 231.51,-22.5 \" stroke=\"black\"/>\n",
       "<text font-family=\"Times,serif\" font-size=\"14.00\" text-anchor=\"middle\" x=\"203.68\" y=\"-7.3\">output:</text>\n",
       "<polyline fill=\"none\" points=\"231.51,-0.5 231.51,-44.5 \" stroke=\"black\"/>\n",
       "<text font-family=\"Times,serif\" font-size=\"14.00\" text-anchor=\"middle\" x=\"307.84\" y=\"-29.3\">(None, 5, 15)</text>\n",
       "<polyline fill=\"none\" points=\"231.51,-22.5 385.13,-22.5 \" stroke=\"black\"/>\n",
       "<text font-family=\"Times,serif\" font-size=\"14.00\" text-anchor=\"middle\" x=\"308.32\" y=\"-7.3\">[(None, 10), (None, 10)]</text>\n",
       "</g>\n",
       "<!-- 5280660368&#45;&gt;5284162192 -->\n",
       "<g class=\"edge\" id=\"edge1\">\n",
       "<title>5280660368-&gt;5284162192</title>\n",
       "<path d=\"M192.57,-81.33C192.57,-73.18 192.57,-63.7 192.57,-54.8\" fill=\"none\" stroke=\"black\"/>\n",
       "<polygon fill=\"black\" points=\"196.07,-54.73 192.57,-44.73 189.07,-54.73 196.07,-54.73\" stroke=\"black\"/>\n",
       "</g>\n",
       "</g>\n",
       "</svg>"
      ],
      "text/plain": [
       "<IPython.core.display.SVG object>"
      ]
     },
     "execution_count": 13,
     "metadata": {},
     "output_type": "execute_result"
    }
   ],
   "source": [
    "SVG(model_to_dot(model, show_shapes=True).create(prog='dot', format='svg'))"
   ]
  },
  {
   "cell_type": "code",
   "execution_count": null,
   "metadata": {},
   "outputs": [],
   "source": []
  }
 ],
 "metadata": {
  "kernelspec": {
   "display_name": "Python 3",
   "language": "python",
   "name": "python3"
  },
  "language_info": {
   "codemirror_mode": {
    "name": "ipython",
    "version": 3
   },
   "file_extension": ".py",
   "mimetype": "text/x-python",
   "name": "python",
   "nbconvert_exporter": "python",
   "pygments_lexer": "ipython3",
   "version": "3.7.4"
  }
 },
 "nbformat": 4,
 "nbformat_minor": 2
}
