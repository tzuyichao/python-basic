{
 "cells": [
  {
   "cell_type": "code",
   "execution_count": 1,
   "metadata": {},
   "outputs": [
    {
     "name": "stderr",
     "output_type": "stream",
     "text": [
      "Using TensorFlow backend.\n"
     ]
    }
   ],
   "source": [
    "from keras.models import Sequential, Model\n",
    "from keras.layers import Conv2D\n",
    "from keras.utils import np_utils"
   ]
  },
  {
   "cell_type": "code",
   "execution_count": 2,
   "metadata": {},
   "outputs": [],
   "source": [
    "from IPython.display import SVG\n",
    "from keras.utils.vis_utils import model_to_dot"
   ]
  },
  {
   "cell_type": "code",
   "execution_count": 3,
   "metadata": {},
   "outputs": [],
   "source": [
    "model = Sequential()\n",
    "model.add(Conv2D(filters=3, kernel_size=(3, 3), input_shape=(6, 6, 1), name='Conv2D_1'))\n",
    "model.add(Conv2D(filters=2, kernel_size=(3, 3), name='Conv2D_2'))"
   ]
  },
  {
   "cell_type": "code",
   "execution_count": 4,
   "metadata": {},
   "outputs": [
    {
     "data": {
      "image/svg+xml": [
       "<svg height=\"287pt\" viewBox=\"0.00 0.00 344.13 215.00\" width=\"459pt\" xmlns=\"http://www.w3.org/2000/svg\" xmlns:xlink=\"http://www.w3.org/1999/xlink\">\n",
       "<g class=\"graph\" id=\"graph0\" transform=\"scale(0.75 0.75) rotate(0) translate(4 211)\">\n",
       "<title>G</title>\n",
       "<polygon fill=\"white\" points=\"-4,4 -4,-211 340.13,-211 340.13,4 -4,4\" stroke=\"transparent\"/>\n",
       "<!-- 4429294992 -->\n",
       "<g class=\"node\" id=\"node1\">\n",
       "<title>4429294992</title>\n",
       "<polygon fill=\"none\" points=\"0,-162.5 0,-206.5 336.13,-206.5 336.13,-162.5 0,-162.5\" stroke=\"black\"/>\n",
       "<text font-family=\"Times,serif\" font-size=\"14.00\" text-anchor=\"middle\" x=\"91.41\" y=\"-180.3\">Conv2D_1_input: InputLayer</text>\n",
       "<polyline fill=\"none\" points=\"182.81,-162.5 182.81,-206.5 \" stroke=\"black\"/>\n",
       "<text font-family=\"Times,serif\" font-size=\"14.00\" text-anchor=\"middle\" x=\"210.65\" y=\"-191.3\">input:</text>\n",
       "<polyline fill=\"none\" points=\"182.81,-184.5 238.48,-184.5 \" stroke=\"black\"/>\n",
       "<text font-family=\"Times,serif\" font-size=\"14.00\" text-anchor=\"middle\" x=\"210.65\" y=\"-169.3\">output:</text>\n",
       "<polyline fill=\"none\" points=\"238.48,-162.5 238.48,-206.5 \" stroke=\"black\"/>\n",
       "<text font-family=\"Times,serif\" font-size=\"14.00\" text-anchor=\"middle\" x=\"287.3\" y=\"-191.3\">(None, 6, 6, 1)</text>\n",
       "<polyline fill=\"none\" points=\"238.48,-184.5 336.13,-184.5 \" stroke=\"black\"/>\n",
       "<text font-family=\"Times,serif\" font-size=\"14.00\" text-anchor=\"middle\" x=\"287.3\" y=\"-169.3\">(None, 6, 6, 1)</text>\n",
       "</g>\n",
       "<!-- 4429294032 -->\n",
       "<g class=\"node\" id=\"node2\">\n",
       "<title>4429294032</title>\n",
       "<polygon fill=\"none\" points=\"25.26,-81.5 25.26,-125.5 310.87,-125.5 310.87,-81.5 25.26,-81.5\" stroke=\"black\"/>\n",
       "<text font-family=\"Times,serif\" font-size=\"14.00\" text-anchor=\"middle\" x=\"91.41\" y=\"-99.3\">Conv2D_1: Conv2D</text>\n",
       "<polyline fill=\"none\" points=\"157.55,-81.5 157.55,-125.5 \" stroke=\"black\"/>\n",
       "<text font-family=\"Times,serif\" font-size=\"14.00\" text-anchor=\"middle\" x=\"185.38\" y=\"-110.3\">input:</text>\n",
       "<polyline fill=\"none\" points=\"157.55,-103.5 213.22,-103.5 \" stroke=\"black\"/>\n",
       "<text font-family=\"Times,serif\" font-size=\"14.00\" text-anchor=\"middle\" x=\"185.38\" y=\"-88.3\">output:</text>\n",
       "<polyline fill=\"none\" points=\"213.22,-81.5 213.22,-125.5 \" stroke=\"black\"/>\n",
       "<text font-family=\"Times,serif\" font-size=\"14.00\" text-anchor=\"middle\" x=\"262.04\" y=\"-110.3\">(None, 6, 6, 1)</text>\n",
       "<polyline fill=\"none\" points=\"213.22,-103.5 310.87,-103.5 \" stroke=\"black\"/>\n",
       "<text font-family=\"Times,serif\" font-size=\"14.00\" text-anchor=\"middle\" x=\"262.04\" y=\"-88.3\">(None, 4, 4, 3)</text>\n",
       "</g>\n",
       "<!-- 4429294992&#45;&gt;4429294032 -->\n",
       "<g class=\"edge\" id=\"edge1\">\n",
       "<title>4429294992-&gt;4429294032</title>\n",
       "<path d=\"M168.06,-162.33C168.06,-154.18 168.06,-144.7 168.06,-135.8\" fill=\"none\" stroke=\"black\"/>\n",
       "<polygon fill=\"black\" points=\"171.56,-135.73 168.06,-125.73 164.56,-135.73 171.56,-135.73\" stroke=\"black\"/>\n",
       "</g>\n",
       "<!-- 4429294800 -->\n",
       "<g class=\"node\" id=\"node3\">\n",
       "<title>4429294800</title>\n",
       "<polygon fill=\"none\" points=\"25.26,-0.5 25.26,-44.5 310.87,-44.5 310.87,-0.5 25.26,-0.5\" stroke=\"black\"/>\n",
       "<text font-family=\"Times,serif\" font-size=\"14.00\" text-anchor=\"middle\" x=\"91.41\" y=\"-18.3\">Conv2D_2: Conv2D</text>\n",
       "<polyline fill=\"none\" points=\"157.55,-0.5 157.55,-44.5 \" stroke=\"black\"/>\n",
       "<text font-family=\"Times,serif\" font-size=\"14.00\" text-anchor=\"middle\" x=\"185.38\" y=\"-29.3\">input:</text>\n",
       "<polyline fill=\"none\" points=\"157.55,-22.5 213.22,-22.5 \" stroke=\"black\"/>\n",
       "<text font-family=\"Times,serif\" font-size=\"14.00\" text-anchor=\"middle\" x=\"185.38\" y=\"-7.3\">output:</text>\n",
       "<polyline fill=\"none\" points=\"213.22,-0.5 213.22,-44.5 \" stroke=\"black\"/>\n",
       "<text font-family=\"Times,serif\" font-size=\"14.00\" text-anchor=\"middle\" x=\"262.04\" y=\"-29.3\">(None, 4, 4, 3)</text>\n",
       "<polyline fill=\"none\" points=\"213.22,-22.5 310.87,-22.5 \" stroke=\"black\"/>\n",
       "<text font-family=\"Times,serif\" font-size=\"14.00\" text-anchor=\"middle\" x=\"262.04\" y=\"-7.3\">(None, 2, 2, 2)</text>\n",
       "</g>\n",
       "<!-- 4429294032&#45;&gt;4429294800 -->\n",
       "<g class=\"edge\" id=\"edge2\">\n",
       "<title>4429294032-&gt;4429294800</title>\n",
       "<path d=\"M168.06,-81.33C168.06,-73.18 168.06,-63.7 168.06,-54.8\" fill=\"none\" stroke=\"black\"/>\n",
       "<polygon fill=\"black\" points=\"171.56,-54.73 168.06,-44.73 164.56,-54.73 171.56,-54.73\" stroke=\"black\"/>\n",
       "</g>\n",
       "</g>\n",
       "</svg>"
      ],
      "text/plain": [
       "<IPython.core.display.SVG object>"
      ]
     },
     "execution_count": 4,
     "metadata": {},
     "output_type": "execute_result"
    }
   ],
   "source": [
    "SVG(model_to_dot(model, show_shapes=True).create(prog='dot', format='svg'))"
   ]
  },
  {
   "cell_type": "code",
   "execution_count": null,
   "metadata": {},
   "outputs": [],
   "source": []
  }
 ],
 "metadata": {
  "kernelspec": {
   "display_name": "Python 3",
   "language": "python",
   "name": "python3"
  },
  "language_info": {
   "codemirror_mode": {
    "name": "ipython",
    "version": 3
   },
   "file_extension": ".py",
   "mimetype": "text/x-python",
   "name": "python",
   "nbconvert_exporter": "python",
   "pygments_lexer": "ipython3",
   "version": "3.7.4"
  }
 },
 "nbformat": 4,
 "nbformat_minor": 2
}
