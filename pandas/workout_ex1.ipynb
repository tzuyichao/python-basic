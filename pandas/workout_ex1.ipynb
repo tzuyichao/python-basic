{
 "cells": [
  {
   "cell_type": "code",
   "execution_count": 1,
   "id": "1a2f2bac-8a05-4ab9-b0ee-5c8e2178ad59",
   "metadata": {},
   "outputs": [],
   "source": [
    "from pandas import Series"
   ]
  },
  {
   "cell_type": "code",
   "execution_count": 3,
   "id": "9e8f3a2f-758d-4c21-87ec-c5f39693aecb",
   "metadata": {},
   "outputs": [],
   "source": [
    "s = Series([10, 20, 30, 40, 50])"
   ]
  },
  {
   "cell_type": "code",
   "execution_count": 4,
   "id": "a0f65366-baaa-46f9-8c98-5d896a650b90",
   "metadata": {},
   "outputs": [
    {
     "name": "stdout",
     "output_type": "stream",
     "text": [
      "0    10\n",
      "1    20\n",
      "2    30\n",
      "3    40\n",
      "4    50\n",
      "dtype: int64\n"
     ]
    }
   ],
   "source": [
    "print(s)"
   ]
  },
  {
   "cell_type": "code",
   "execution_count": 5,
   "id": "3888ce2e-946b-4456-be08-78203ec2fec4",
   "metadata": {},
   "outputs": [],
   "source": [
    "import numpy as np"
   ]
  },
  {
   "cell_type": "code",
   "execution_count": 6,
   "id": "efd343a9-44eb-4d71-9948-e47d7b361a43",
   "metadata": {},
   "outputs": [],
   "source": [
    "g = np.random.default_rng()"
   ]
  },
  {
   "cell_type": "code",
   "execution_count": 7,
   "id": "7cd8efaa-3ffa-478c-9db9-a1207d34f5b5",
   "metadata": {},
   "outputs": [
    {
     "data": {
      "text/plain": [
       "array([62, 39, 52, 36, 52,  5, 22, 65, 81, 90], dtype=int64)"
      ]
     },
     "execution_count": 7,
     "metadata": {},
     "output_type": "execute_result"
    }
   ],
   "source": [
    "g.integers(0, 100, 10)"
   ]
  },
  {
   "cell_type": "code",
   "execution_count": 9,
   "id": "f47c8c6e-2019-4dd5-8551-d70edeaef5e1",
   "metadata": {},
   "outputs": [],
   "source": [
    "g = np.random.default_rng(0)\n",
    "s = Series(g.integers(70, 101, 10))\n",
    "s.index = \"Sep Oct Nov Dec Jan Feb Mar Apr May Jun\".split()"
   ]
  },
  {
   "cell_type": "code",
   "execution_count": 10,
   "id": "0a80e2b5-6738-4b22-8885-31b8c5875619",
   "metadata": {},
   "outputs": [
    {
     "data": {
      "text/plain": [
       "Sep    96\n",
       "Oct    89\n",
       "Nov    85\n",
       "Dec    78\n",
       "Jan    79\n",
       "Feb    71\n",
       "Mar    72\n",
       "Apr    70\n",
       "May    75\n",
       "Jun    95\n",
       "dtype: int64"
      ]
     },
     "execution_count": 10,
     "metadata": {},
     "output_type": "execute_result"
    }
   ],
   "source": [
    "s"
   ]
  },
  {
   "cell_type": "code",
   "execution_count": 13,
   "id": "2f088ed9-5284-4213-a35d-74e6f2d1e46d",
   "metadata": {},
   "outputs": [
    {
     "data": {
      "text/plain": [
       "Sep    96\n",
       "Oct    89\n",
       "Nov    85\n",
       "Dec    78\n",
       "Jan    79\n",
       "dtype: int64"
      ]
     },
     "execution_count": 13,
     "metadata": {},
     "output_type": "execute_result"
    }
   ],
   "source": [
    "s.iloc[:5]"
   ]
  },
  {
   "cell_type": "code",
   "execution_count": 14,
   "id": "d02f9bcd-c11a-4c8b-ba68-9b07aeeda45a",
   "metadata": {},
   "outputs": [
    {
     "data": {
      "text/plain": [
       "85.4"
      ]
     },
     "execution_count": 14,
     "metadata": {},
     "output_type": "execute_result"
    }
   ],
   "source": [
    "s.iloc[:5].mean()"
   ]
  },
  {
   "cell_type": "code",
   "execution_count": 15,
   "id": "223c3b31-c96d-40c8-80a0-bf11afdeff12",
   "metadata": {},
   "outputs": [
    {
     "data": {
      "text/plain": [
       "81.0"
      ]
     },
     "execution_count": 15,
     "metadata": {},
     "output_type": "execute_result"
    }
   ],
   "source": [
    "s.mean()"
   ]
  },
  {
   "cell_type": "code",
   "execution_count": 17,
   "id": "b5289c12-0736-4056-8390-f51d0c3217cb",
   "metadata": {},
   "outputs": [
    {
     "data": {
      "text/plain": [
       "Sep    96\n",
       "Oct    89\n",
       "Nov    85\n",
       "Dec    78\n",
       "Jan    79\n",
       "dtype: int64"
      ]
     },
     "execution_count": 17,
     "metadata": {},
     "output_type": "execute_result"
    }
   ],
   "source": [
    "s.loc['Sep' : 'Jan']"
   ]
  },
  {
   "cell_type": "code",
   "execution_count": 18,
   "id": "06456380-87d2-4819-ac0d-8ff978908dfd",
   "metadata": {},
   "outputs": [
    {
     "data": {
      "text/plain": [
       "85.4"
      ]
     },
     "execution_count": 18,
     "metadata": {},
     "output_type": "execute_result"
    }
   ],
   "source": [
    "s.loc['Sep' : 'Jan'].mean()"
   ]
  },
  {
   "cell_type": "code",
   "execution_count": 19,
   "id": "6080cb94-4809-4d63-9688-14fe08ea0ea2",
   "metadata": {},
   "outputs": [
    {
     "data": {
      "text/plain": [
       "Sep    96\n",
       "Oct    89\n",
       "Nov    85\n",
       "Dec    78\n",
       "Jan    79\n",
       "dtype: int64"
      ]
     },
     "execution_count": 19,
     "metadata": {},
     "output_type": "execute_result"
    }
   ],
   "source": [
    "s.head()"
   ]
  },
  {
   "cell_type": "code",
   "execution_count": 20,
   "id": "fa80e683-e0c1-4d83-8942-2a8398fbfe9e",
   "metadata": {},
   "outputs": [
    {
     "data": {
      "text/plain": [
       "90.0"
      ]
     },
     "execution_count": 20,
     "metadata": {},
     "output_type": "execute_result"
    }
   ],
   "source": [
    "s.head(3).mean()"
   ]
  },
  {
   "cell_type": "code",
   "execution_count": 21,
   "id": "cf5ccd8b-becd-4bdd-9964-0f925e8ad0b2",
   "metadata": {},
   "outputs": [
    {
     "data": {
      "text/plain": [
       "76.6"
      ]
     },
     "execution_count": 21,
     "metadata": {},
     "output_type": "execute_result"
    }
   ],
   "source": [
    "s.tail().mean()"
   ]
  },
  {
   "cell_type": "code",
   "execution_count": 22,
   "id": "4266c479-e76c-4a82-9ee2-5c8b1ef06aa5",
   "metadata": {},
   "outputs": [
    {
     "name": "stdout",
     "output_type": "stream",
     "text": [
      "First Half Average: 85.4\n",
      "Second Half Average: 76.6\n",
      "Improvement: -8.800000000000011\n"
     ]
    }
   ],
   "source": [
    "first_half_average = s.loc[\"Sep\" : \"Jan\"].mean()\n",
    "second_half_average = s[\"Feb\" : \"Jun\"].mean()\n",
    "\n",
    "print(f\"First Half Average: {first_half_average}\")\n",
    "print(f\"Second Half Average: {second_half_average}\")\n",
    "\n",
    "print(f\"Improvement: {second_half_average-first_half_average}\")"
   ]
  },
  {
   "cell_type": "code",
   "execution_count": null,
   "id": "dbdd6935-8ccc-4f31-b8fe-5c54ddbc845f",
   "metadata": {},
   "outputs": [],
   "source": []
  }
 ],
 "metadata": {
  "kernelspec": {
   "display_name": "Python 3 (ipykernel)",
   "language": "python",
   "name": "python3"
  },
  "language_info": {
   "codemirror_mode": {
    "name": "ipython",
    "version": 3
   },
   "file_extension": ".py",
   "mimetype": "text/x-python",
   "name": "python",
   "nbconvert_exporter": "python",
   "pygments_lexer": "ipython3",
   "version": "3.12.4"
  }
 },
 "nbformat": 4,
 "nbformat_minor": 5
}
